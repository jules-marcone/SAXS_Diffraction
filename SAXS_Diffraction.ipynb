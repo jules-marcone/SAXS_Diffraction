{
 "cells": [
  {
   "cell_type": "code",
   "execution_count": 1,
   "metadata": {},
   "outputs": [],
   "source": [
    "import numpy as np\n",
    "from matplotlib import pyplot as plt\n",
    "import os.path\n",
    "import ipywidgets as widgets\n",
    "from ipywidgets import interact, interactive, fixed, interact_manual"
   ]
  },
  {
   "cell_type": "markdown",
   "metadata": {},
   "source": [
    "This first block of code is used to load the data (in the .dat format) that needs to be analysed.\n",
    "\n",
    "data_folder_path should be the path to the folder where the data is stored.\n",
    "\n",
    "data_file_name is the file name.\n",
    "\n",
    "You can also change the maximum y valued to be shown on the graph by changing the ymax value.\n",
    "\n",
    "You can change if you want to add or remove the errors on q, but be careful about the command lines that draw the experimental data (make sure it is always either plt.errorbar when error bars are present, or plt.plot when no error bars are present)"
   ]
  },
  {
   "cell_type": "code",
   "execution_count": 39,
   "metadata": {},
   "outputs": [
    {
     "data": {
      "text/plain": [
       "(0.001, 0.2223063937538125)"
      ]
     },
     "execution_count": 39,
     "metadata": {},
     "output_type": "execute_result"
    },
    {
     "data": {
      "image/png": "[encoded data removed]",
      "text/plain": [
       "<Figure size 640x480 with 1 Axes>"
      ]
     },
     "metadata": {},
     "output_type": "display_data"
    }
   ],
   "source": [
    "data_folder_path = r\".\"\n",
    "\n",
    "data_file_name = [\"test_data.dat\"]\n",
    "file_paths = [os.path.join(data_folder_path,data) for data in data_file_name]\n",
    "\n",
    "\n",
    "ymax = 100\n",
    "\n",
    "for file_path in file_paths:\n",
    "    cursor = open(file_path,\"r\")\n",
    "    q = []\n",
    "    Iq = []\n",
    "    #Errorq = [] #If no Errorq, comment this line\n",
    "    for ligne in cursor:\n",
    "        if ligne[0] in [\"#\", \"q\"] or \"nan\" in ligne.split() :\n",
    "            pass\n",
    "        else :\n",
    "            data = ligne.split()\n",
    "            q.append(float(data[0]))\n",
    "            Iq.append(float(data[1]))\n",
    "            #Errorq.append(float(data[2])) #If no Errorq, comment this line\n",
    "    cursor.close()\n",
    "#plt.errorbar(x=q,y=Iq,yerr=Errorq,label=data_file_name[0]) #If no Error q, comment this line and uncomment the next one.\n",
    "plt.plot(q,Iq,label=data_file_name[0]) #Uncomment this line if no Errorq\n",
    "plt.yscale('log')\n",
    "plt.legend()\n",
    "plt.xscale('log')\n",
    "plt.ylim(bottom=None, top=ymax)\n",
    "plt.xlim(left=0.001,right=None)"
   ]
  },
  {
   "cell_type": "markdown",
   "metadata": {},
   "source": [
    "This next block of code generates a hexagonal model on which you can modify the cell parameters. You can also choose to show or hide peaks that satisfy the extinction rule.\n",
    "\n",
    "Peaks of type hk0 are shown in red, 00l are in green, and mixed hkl are in blue."
   ]
  },
  {
   "cell_type": "code",
   "execution_count": null,
   "metadata": {},
   "outputs": [
    {
     "data": {
      "application/vnd.jupyter.widget-view+json": {
       "model_id": "255b95e54e374e258a91234b42c06116",
       "version_major": 2,
       "version_minor": 0
      },
      "text/plain": [
       "interactive(children=(IntSlider(value=1005, description='a_cell', max=2000, min=10), IntSlider(value=2505, des…"
      ]
     },
     "metadata": {},
     "output_type": "display_data"
    },
    {
     "data": {
      "text/plain": [
       "<function __main__.threeD_hexagonal_hkl(a_cell, c_cell, show_extinct=True, xlog=False, cutout=1)>"
      ]
     },
     "execution_count": 35,
     "metadata": {},
     "output_type": "execute_result"
    }
   ],
   "source": [
    "def threeD_generation(hmax,lmax):\n",
    "    \"\"\"Generates the list of hkl of a 3D structure where h and l are not equivalent by symmetry up to hmax and lmax\"\"\"\n",
    "    #generation of the coordinates list\n",
    "    coordinates = []\n",
    "    for h in range(hmax+1):\n",
    "        for k in range(h,hmax+1):\n",
    "            for l in range(lmax+1):\n",
    "                coordinates.append([h,k,l])\n",
    "    coordinates = np.array(coordinates)\n",
    "    h = coordinates[1:,0]\n",
    "    k = coordinates[1:,1]\n",
    "    l = coordinates[1:,2]\n",
    "    return h, k, l\n",
    "\n",
    "def threeD_hexagonal_hkl(a_cell,c_cell,show_extinct = True,xlog=False,cutout=1):\n",
    "    \"\"\"Returns and plots the model for the diffraction of a 3D hexagonal crystal of parameters a_cell and c_cell.\n",
    "    show_extinct : True shows the peaks that satisfy the extinction rule, False does not.\"\"\"\n",
    "    plt.figure(figsize=(20,6))\n",
    "    #plt.errorbar(x=q,y=Iq,yerr=Errorq,label=data_file_name[0])\n",
    "    plt.plot(q,Iq,label=data_file_name[0])\n",
    "    h_list, k_list, l_list = threeD_generation(3,10)\n",
    "    S_square = (4/3)*(h_list*h_list+k_list*k_list+h_list*k_list)+((a_cell*a_cell)/(c_cell*c_cell))*l_list*l_list\n",
    "    qhkl_list = 2*np.pi/a_cell * np.sqrt(S_square)\n",
    "    i = 0\n",
    "    while i < len(qhkl_list):\n",
    "        if qhkl_list[i]<cutout*q[-1] and (show_extinct or not((h_list[i]+2*k_list[i])%3==0 and l_list[i]%2==1)) and (h_list[i]+k_list[i]+l_list[i] <= 10):\n",
    "            #différencier couleurs hk0, 00l, hkl\n",
    "            if l_list[i]==0:\n",
    "                plt.axvline(qhkl_list[i],ymin=0,ymax=100,color='r',linestyle='--')\n",
    "                plt.text(qhkl_list[i],ymax*0.2,str(h_list[i])+str(k_list[i])+str(l_list[i]),color='r')\n",
    "            elif h_list[i]+k_list[i]==0:\n",
    "                plt.axvline(qhkl_list[i],ymin=0,ymax=100,color='g',linestyle='--')\n",
    "                plt.text(qhkl_list[i],ymax*0.2,str(h_list[i])+str(k_list[i])+str(l_list[i]),color='g')\n",
    "            else :\n",
    "                plt.axvline(qhkl_list[i],ymin=0,ymax=100,color='b',linestyle='--')\n",
    "                plt.text(qhkl_list[i],ymax*0.2,str(h_list[i])+str(k_list[i])+str(l_list[i]),color='b')\n",
    "        i+=1\n",
    "    \n",
    "    plt.yscale('log')\n",
    "    plt.legend()\n",
    "    if xlog:\n",
    "        plt.xscale('log')\n",
    "    else:\n",
    "        plt.xscale('linear')\n",
    "    plt.ylim(bottom=None, top=ymax)\n",
    "    plt.xlim(left=0.001,right=cutout*q[-1])\n",
    "\n",
    "interact(threeD_hexagonal_hkl, a_cell=(10,2000), c_cell=(10,5000), show_extinct=True, xlog=False, cutout=(0.00,1.00,0.01))"
   ]
  },
  {
   "cell_type": "code",
   "execution_count": null,
   "metadata": {},
   "outputs": [
    {
     "data": {
      "application/vnd.jupyter.widget-view+json": {
       "model_id": "7f5f420152d147a09164680e4cef753b",
       "version_major": 2,
       "version_minor": 0
      },
      "text/plain": [
       "interactive(children=(IntSlider(value=1005, description='a_cell', max=2000, min=10), IntSlider(value=2505, des…"
      ]
     },
     "metadata": {},
     "output_type": "display_data"
    },
    {
     "data": {
      "text/plain": [
       "<function __main__.threeD_hexagonal_hkl_randstack(a_cell, c_cell, show_extinct=True, xlog=False, cutout=1)>"
      ]
     },
     "execution_count": 12,
     "metadata": {},
     "output_type": "execute_result"
    }
   ],
   "source": [
    "def threeD_generation(hmax,lmax):\n",
    "    \"\"\"Generates the list of hkl of a 3D structure where h and l are not equivalent by symmetry up to hmax and lmax\"\"\"\n",
    "    #generation of the coordinates list\n",
    "    coordinates = []\n",
    "    for h in range(hmax+1):\n",
    "        for k in range(h,hmax+1):\n",
    "            for l in range(lmax+1):\n",
    "                coordinates.append([h,k,l])\n",
    "    coordinates = np.array(coordinates)\n",
    "    h = coordinates[1:,0]\n",
    "    k = coordinates[1:,1]\n",
    "    l = coordinates[1:,2]\n",
    "    return h, k, l\n",
    "\n",
    "def threeD_hexagonal_hkl_randstack(a_cell,c_cell,show_extinct = True,xlog=False,cutout=1):\n",
    "    \"\"\"Returns and plots the model for the diffraction of a 3D hexagonal crystal of parameters a_cell and c_cell.\n",
    "    show_extinct : True shows the peaks that satisfy the extinction rule, False does not.\"\"\"\n",
    "    plt.figure(figsize=(20,6))\n",
    "    #plt.errorbar(x=q,y=Iq,yerr=Errorq,label=data_file_name[0])\n",
    "    plt.plot(q,Iq,label=data_file_name[0])\n",
    "    h_list, k_list, l_list = threeD_generation(3,5)\n",
    "    S_square = (4/3)*(h_list*h_list+k_list*k_list+h_list*k_list)+((a_cell*a_cell)/(c_cell*c_cell))*l_list*l_list\n",
    "    qhkl_list = 2*np.pi/a_cell * np.sqrt(S_square)\n",
    "    i = 0\n",
    "    while i < len(qhkl_list):\n",
    "        if qhkl_list[i]<cutout*q[-1] and (show_extinct or not((h_list[i]+2*k_list[i])%3==0 and l_list[i]%2==1)) and (h_list[i]+k_list[i]+l_list[i] <= 5):\n",
    "            #différencier couleurs hk0, 00l, hkl\n",
    "            if l_list[i]==0:\n",
    "                plt.axvline(qhkl_list[i],ymin=0,ymax=100,color='r',linestyle='--')\n",
    "                plt.text(qhkl_list[i],ymax*0.2,str(h_list[i])+str(k_list[i])+str(l_list[i]),color='r')\n",
    "            elif h_list[i]+k_list[i]==0:\n",
    "                plt.axvline(qhkl_list[i],ymin=0,ymax=100,color='g',linestyle='--')\n",
    "                plt.text(qhkl_list[i],ymax*0.2,str(h_list[i])+str(k_list[i])+str(l_list[i]),color='g')\n",
    "        i+=1\n",
    "    \n",
    "    plt.yscale('log')\n",
    "    plt.legend()\n",
    "    if xlog:\n",
    "        plt.xscale('log')\n",
    "    else:\n",
    "        plt.xscale('linear')\n",
    "    plt.ylim(bottom=None, top=ymax)\n",
    "    plt.xlim(left=0.001,right=cutout*q[-1])\n",
    "\n",
    "interact(threeD_hexagonal_hkl_randstack, a_cell=(10,2000), c_cell=(10,5000), show_extinct=True, xlog=False, cutout=(0.00,1.00,0.01))"
   ]
  },
  {
   "cell_type": "markdown",
   "metadata": {},
   "source": [
    "The next block generates a cubic model.\n",
    "\n",
    "You can select different extinction rule sets for different kinds of lattices (primitive, face centered or body centered)."
   ]
  },
  {
   "cell_type": "code",
   "execution_count": 20,
   "metadata": {},
   "outputs": [
    {
     "data": {
      "application/vnd.jupyter.widget-view+json": {
       "model_id": "939a15d3e7fc4d4094e9443886499fd1",
       "version_major": 2,
       "version_minor": 0
      },
      "text/plain": [
       "interactive(children=(IntSlider(value=1200, description='a_cell', max=2000, min=400), Dropdown(description='ce…"
      ]
     },
     "metadata": {},
     "output_type": "display_data"
    },
    {
     "data": {
      "text/plain": [
       "<function __main__.threeD_cubic_hkl(a_cell, celltype='primitive', xlog=False, cutout=1)>"
      ]
     },
     "execution_count": 20,
     "metadata": {},
     "output_type": "execute_result"
    }
   ],
   "source": [
    "def threeD_generation_cubic(hmax):\n",
    "    \"\"\"Generates the list of hkl for a 3D structure where h and l are equivalent by symmetry up to hmax\"\"\"\n",
    "    #generation of the coordinates list\n",
    "    coordinates = []\n",
    "    for h in range(hmax+1):\n",
    "        for k in range(h,hmax+1):\n",
    "            for l in range(k,hmax+1):\n",
    "                coordinates.append([h,k,l])\n",
    "    coordinates = np.array(coordinates)\n",
    "    h = coordinates[1:,0]\n",
    "    k = coordinates[1:,1]\n",
    "    l = coordinates[1:,2]\n",
    "    return h, k, l\n",
    "\n",
    "def threeD_cubic_hkl(a_cell,celltype='primitive',xlog=False,cutout=1):\n",
    "    \"\"\"Returns and plots the model for the diffraction of a cubic crystal of parameters a_cell\"\"\"\n",
    "    plt.figure(figsize=(20,6))\n",
    "    #plt.errorbar(x=q,y=Iq,yerr=Errorq,label='Raw data')\n",
    "    plt.plot(q,Iq,label='Raw data')\n",
    "    h_list, k_list, l_list = threeD_generation_cubic(5)\n",
    "    S_square = (h_list*h_list+k_list*k_list+l_list*l_list)\n",
    "    qhkl_list = 2*np.pi/a_cell * np.sqrt(S_square)\n",
    "    i = 0\n",
    "    match celltype:\n",
    "        case 'primitive':\n",
    "            while i < len(qhkl_list):\n",
    "                if qhkl_list[i]<cutout*q[-1]:\n",
    "                    plt.axvline(qhkl_list[i],ymin=0,ymax=100,color='r',linestyle='--')\n",
    "                    plt.text(qhkl_list[i],ymax*0.2,str(h_list[i])+str(k_list[i])+str(l_list[i]),color='r')\n",
    "                i+=1\n",
    "        case 'body centered':\n",
    "            while i < len(qhkl_list):\n",
    "                if qhkl_list[i]<cutout*q[-1] and (h_list[i]+k_list[i]+l_list[i])%2==0:\n",
    "                    plt.axvline(qhkl_list[i],ymin=0,ymax=100,color='r',linestyle='--')\n",
    "                    plt.text(qhkl_list[i],ymax*0.2,str(h_list[i])+str(k_list[i])+str(l_list[i]),color='r')\n",
    "                i+=1\n",
    "        case 'face centered':\n",
    "            while i < len(qhkl_list):\n",
    "                if qhkl_list[i]<cutout*q[-1] and ((h_list[i]%2+k_list[i]%2+l_list[i]%2)==0 or (h_list[i]%2+k_list[i]%2+l_list[i]%2)==3):\n",
    "                    plt.axvline(qhkl_list[i],ymin=0,ymax=100,color='r',linestyle='--')\n",
    "                    plt.text(qhkl_list[i],ymax*0.2,str(h_list[i])+str(k_list[i])+str(l_list[i]),color='r')\n",
    "                i+=1\n",
    "        case _:\n",
    "            print(\"Warning : cell type name undefined. Now showing all possible peaks.\")\n",
    "            while i < len(qhkl_list):\n",
    "                if qhkl_list[i]<cutout*q[-1]:\n",
    "                    plt.axvline(qhkl_list[i],ymin=0,ymax=100,color='r',linestyle='--')\n",
    "                    plt.text(qhkl_list[i],ymax*0.2,str(h_list[i])+str(k_list[i])+str(l_list[i]),color='r')\n",
    "                i+=1\n",
    "        \n",
    "\n",
    "    plt.yscale('log')\n",
    "    plt.legend()\n",
    "    if xlog:\n",
    "        plt.xscale('log')\n",
    "    else:\n",
    "        plt.xscale('linear')\n",
    "    plt.ylim(bottom=None, top=ymax)\n",
    "    plt.xlim(left=0.001,right=cutout*q[-1])\n",
    "\n",
    "\n",
    "interact(threeD_cubic_hkl, a_cell=(400,2000),celltype=['primitive','face centered','body centered'],xlog=False, cutout=(0.00,1.00,0.01))"
   ]
  },
  {
   "cell_type": "markdown",
   "metadata": {},
   "source": [
    "The next block generates a tetragonal model.\n",
    "\n",
    "It has the same extinction modes as the cubic face (primitive, face centered and body centered), and shows hk0 peaks in red, 00l peaks in green, and hkl peaks in blue."
   ]
  },
  {
   "cell_type": "code",
   "execution_count": null,
   "metadata": {},
   "outputs": [
    {
     "data": {
      "application/vnd.jupyter.widget-view+json": {
       "model_id": "510c2f5dc0ee4692a1af195c2f791cb4",
       "version_major": 2,
       "version_minor": 0
      },
      "text/plain": [
       "interactive(children=(IntSlider(value=2005, description='a_cell', max=4000, min=10), IntSlider(value=2005, des…"
      ]
     },
     "metadata": {},
     "output_type": "display_data"
    },
    {
     "data": {
      "text/plain": [
       "<function __main__.threeD_tetragonal_hkl(a_cell, c_cell, celltype, xlog=False, cutout=1)>"
      ]
     },
     "execution_count": 21,
     "metadata": {},
     "output_type": "execute_result"
    }
   ],
   "source": [
    "def threeD_generation(hmax,lmax):\n",
    "    \"\"\"Generates the list of hkl of a 3D structure where h and l are not equivalent by symmetry up to hmax and lmax\"\"\"\n",
    "    #generation of the coordinates list\n",
    "    coordinates = []\n",
    "    for h in range(hmax+1):\n",
    "        for k in range(h,hmax+1):\n",
    "            for l in range(lmax+1):\n",
    "                coordinates.append([h,k,l])\n",
    "    coordinates = np.array(coordinates)\n",
    "    h = coordinates[1:,0]\n",
    "    k = coordinates[1:,1]\n",
    "    l = coordinates[1:,2]\n",
    "    return h, k, l\n",
    "\n",
    "def threeD_tetragonal_hkl(a_cell,c_cell,celltype,xlog=False,cutout=1):\n",
    "    \"\"\"Returns and plots the model for the diffraction of a 3D hexagonal crystal of parameters a_cell and c_cell.\n",
    "    show_extinct : True shows the peaks that satisfy the extinction rule, False does not.\"\"\"\n",
    "    plt.figure(figsize=(20,6))\n",
    "    #plt.errorbar(x=q,y=Iq,yerr=Errorq,label='Raw data')\n",
    "    plt.plot(q,Iq,label='Raw data')\n",
    "    h_list, k_list, l_list = threeD_generation(5,5)\n",
    "    S_square = (h_list*h_list+k_list*k_list+(a_cell*a_cell/(c_cell*c_cell))*l_list*l_list)\n",
    "    qhkl_list = 2*np.pi/a_cell * np.sqrt(S_square)\n",
    "    i = 0\n",
    "    match celltype:\n",
    "        case 'primitive':\n",
    "            while i < len(qhkl_list):\n",
    "                if qhkl_list[i]<cutout*q[-1]:\n",
    "                    if l_list[i]==0:\n",
    "                        plt.axvline(qhkl_list[i],ymin=0,ymax=100,color='r',linestyle='--')\n",
    "                        plt.text(qhkl_list[i],ymax*0.2,str(h_list[i])+str(k_list[i])+str(l_list[i]),color='r')\n",
    "                    elif h_list[i]+k_list[i]==0:\n",
    "                        plt.axvline(qhkl_list[i],ymin=0,ymax=100,color='g',linestyle='--')\n",
    "                        plt.text(qhkl_list[i],ymax*0.2,str(h_list[i])+str(k_list[i])+str(l_list[i]),color='g')\n",
    "                    else :\n",
    "                        plt.axvline(qhkl_list[i],ymin=0,ymax=100,color='b',linestyle='--')\n",
    "                        plt.text(qhkl_list[i],ymax*0.2,str(h_list[i])+str(k_list[i])+str(l_list[i]),color='b')\n",
    "                i+=1\n",
    "        case 'body centered':\n",
    "            while i < len(qhkl_list):\n",
    "                if qhkl_list[i]<cutout*q[-1] and (h_list[i]+k_list[i]+l_list[i])%2==0:\n",
    "                    if l_list[i]==0:\n",
    "                        plt.axvline(qhkl_list[i],ymin=0,ymax=100,color='r',linestyle='--')\n",
    "                        plt.text(qhkl_list[i],ymax*0.2,str(h_list[i])+str(k_list[i])+str(l_list[i]),color='r')\n",
    "                    elif h_list[i]+k_list[i]==0:\n",
    "                        plt.axvline(qhkl_list[i],ymin=0,ymax=100,color='g',linestyle='--')\n",
    "                        plt.text(qhkl_list[i],ymax*0.2,str(h_list[i])+str(k_list[i])+str(l_list[i]),color='g')\n",
    "                    else :\n",
    "                        plt.axvline(qhkl_list[i],ymin=0,ymax=100,color='b',linestyle='--')\n",
    "                        plt.text(qhkl_list[i],ymax*0.2,str(h_list[i])+str(k_list[i])+str(l_list[i]),color='b')\n",
    "                i+=1\n",
    "        case 'face centered':\n",
    "            while i < len(qhkl_list):\n",
    "                if qhkl_list[i]<cutout*q[-1] and ((h_list[i]%2+k_list[i]%2+l_list[i]%2)==0 or (h_list[i]%2+k_list[i]%2+l_list[i]%2)==3):\n",
    "                    if l_list[i]==0:\n",
    "                        plt.axvline(qhkl_list[i],ymin=0,ymax=100,color='r',linestyle='--')\n",
    "                        plt.text(qhkl_list[i],ymax*0.2,str(h_list[i])+str(k_list[i])+str(l_list[i]),color='r')\n",
    "                    elif h_list[i]+k_list[i]==0:\n",
    "                        plt.axvline(qhkl_list[i],ymin=0,ymax=100,color='g',linestyle='--')\n",
    "                        plt.text(qhkl_list[i],ymax*0.2,str(h_list[i])+str(k_list[i])+str(l_list[i]),color='g')\n",
    "                    else :\n",
    "                        plt.axvline(qhkl_list[i],ymin=0,ymax=100,color='b',linestyle='--')\n",
    "                        plt.text(qhkl_list[i],ymax*0.2,str(h_list[i])+str(k_list[i])+str(l_list[i]),color='b')\n",
    "                i+=1\n",
    "        case 'end centered':\n",
    "            while i < len(qhkl_list):\n",
    "                if qhkl_list[i]<cutout*q[-1] and (h_list[i]%2+k_list[i]%2)==0:\n",
    "                    if l_list[i]==0:\n",
    "                        plt.axvline(qhkl_list[i],ymin=0,ymax=100,color='r',linestyle='--')\n",
    "                        plt.text(qhkl_list[i],ymax*0.2,str(h_list[i])+str(k_list[i])+str(l_list[i]),color='r')\n",
    "                    elif h_list[i]+k_list[i]==0:\n",
    "                        plt.axvline(qhkl_list[i],ymin=0,ymax=100,color='g',linestyle='--')\n",
    "                        plt.text(qhkl_list[i],ymax*0.2,str(h_list[i])+str(k_list[i])+str(l_list[i]),color='g')\n",
    "                    else :\n",
    "                        plt.axvline(qhkl_list[i],ymin=0,ymax=100,color='b',linestyle='--')\n",
    "                        plt.text(qhkl_list[i],ymax*0.2,str(h_list[i])+str(k_list[i])+str(l_list[i]),color='b')\n",
    "                i+=1\n",
    "        case _:\n",
    "            print(\"Warning : cell type name undefined. Now showing all possible peaks.\")\n",
    "            while i < len(qhkl_list):\n",
    "                if qhkl_list[i]<cutout*q[-1]:\n",
    "                    if l_list[i]==0:\n",
    "                        plt.axvline(qhkl_list[i],ymin=0,ymax=100,color='r',linestyle='--')\n",
    "                        plt.text(qhkl_list[i],ymax*0.2,str(h_list[i])+str(k_list[i])+str(l_list[i]),color='r')\n",
    "                    elif h_list[i]+k_list[i]==0:\n",
    "                        plt.axvline(qhkl_list[i],ymin=0,ymax=100,color='g',linestyle='--')\n",
    "                        plt.text(qhkl_list[i],ymax*0.2,str(h_list[i])+str(k_list[i])+str(l_list[i]),color='g')\n",
    "                    else :\n",
    "                        plt.axvline(qhkl_list[i],ymin=0,ymax=100,color='b',linestyle='--')\n",
    "                        plt.text(qhkl_list[i],ymax*0.2,str(h_list[i])+str(k_list[i])+str(l_list[i]),color='b')\n",
    "                i+=1\n",
    "    \n",
    "    plt.yscale('log')\n",
    "    plt.legend()\n",
    "    if xlog:\n",
    "        plt.xscale('log')\n",
    "    else:\n",
    "        plt.xscale('linear')\n",
    "    plt.ylim(bottom=None, top=ymax)\n",
    "    plt.xlim(left=0.001,right=cutout*q[-1])\n",
    "\n",
    "interact(threeD_tetragonal_hkl, a_cell=(10,4000),c_cell=(10,4000),celltype=['primitive','face centered','end centered','body centered'],xlog=False, cutout=(0.00,1.00,0.01))"
   ]
  },
  {
   "cell_type": "markdown",
   "metadata": {},
   "source": [
    "The next block generates an orthorhombic model.\n",
    "\n",
    "It has the same extiction modes as the cubic model (primitive, face centered, body centered), and shows h00 peaks in red, 0k0 in blue,  00l in green, and hkl mixed in black."
   ]
  },
  {
   "cell_type": "code",
   "execution_count": 22,
   "metadata": {},
   "outputs": [
    {
     "data": {
      "application/vnd.jupyter.widget-view+json": {
       "model_id": "3b47719a42d54b89bee6088d8bf3aed2",
       "version_major": 2,
       "version_minor": 0
      },
      "text/plain": [
       "interactive(children=(IntSlider(value=2005, description='a_cell', max=4000, min=10), IntSlider(value=2005, des…"
      ]
     },
     "metadata": {},
     "output_type": "display_data"
    },
    {
     "data": {
      "text/plain": [
       "<function __main__.threeD_orthorhombic_hkl(a_cell, b_cell, c_cell, celltype, xlog=False, cutout=1)>"
      ]
     },
     "execution_count": 22,
     "metadata": {},
     "output_type": "execute_result"
    }
   ],
   "source": [
    "def threeD_full_generation(hmax,kmax,lmax):\n",
    "    \"\"\"Generates the list of hkl of a 3D structure where h and l are not equivalent by symmetry up to hmax and lmax\"\"\"\n",
    "    #generation of the coordinates list\n",
    "    coordinates = []\n",
    "    for h in range(hmax+1):\n",
    "        for k in range(kmax+1):\n",
    "            for l in range(lmax+1):\n",
    "                coordinates.append([h,k,l])\n",
    "    coordinates = np.array(coordinates)\n",
    "    h = coordinates[1:,0]\n",
    "    k = coordinates[1:,1]\n",
    "    l = coordinates[1:,2]\n",
    "    return h, k, l\n",
    "\n",
    "def threeD_orthorhombic_hkl(a_cell,b_cell,c_cell,celltype,xlog=False,cutout=1):\n",
    "    \"\"\"Returns and plots the model for the diffraction of a 3D hexagonal crystal of parameters a_cell and c_cell.\n",
    "    show_extinct : True shows the peaks that satisfy the extinction rule, False does not.\"\"\"\n",
    "    plt.figure(figsize=(20,6))\n",
    "    #plt.errorbar(x=q,y=Iq,yerr=Errorq,label='Raw data')\n",
    "    plt.plot(q,Iq,label='Raw data')\n",
    "    h_list, k_list, l_list = threeD_full_generation(3,3,3)\n",
    "    S_square = (h_list*h_list/(a_cell*a_cell)+k_list*k_list/(b_cell*b_cell)+l_list*l_list/(c_cell*c_cell))\n",
    "    qhkl_list = 2*np.pi * np.sqrt(S_square)\n",
    "    i = 0\n",
    "    match celltype:\n",
    "        case 'primitive':\n",
    "            while i < len(qhkl_list):\n",
    "                if qhkl_list[i]<cutout*q[-1]:\n",
    "                    if k_list[i]+l_list[i]==0: #h00 peak\n",
    "                        plt.axvline(qhkl_list[i],ymin=0,ymax=100,color='r',linestyle='--')\n",
    "                        plt.text(qhkl_list[i],ymax*0.2,str(h_list[i])+str(k_list[i])+str(l_list[i]),color='r')\n",
    "                    elif h_list[i]+l_list[i]==0: #k00 peak\n",
    "                        plt.axvline(qhkl_list[i],ymin=0,ymax=100,color='b',linestyle='--')\n",
    "                        plt.text(qhkl_list[i],ymax*0.2,str(h_list[i])+str(k_list[i])+str(l_list[i]),color='b')\n",
    "                    elif h_list[i]+k_list[i]==0: #00l peak\n",
    "                        plt.axvline(qhkl_list[i],ymin=0,ymax=100,color='g',linestyle='--')\n",
    "                        plt.text(qhkl_list[i],ymax*0.2,str(h_list[i])+str(k_list[i])+str(l_list[i]),color='g')\n",
    "                    else :\n",
    "                        plt.axvline(qhkl_list[i],ymin=0,ymax=100,color='black',linestyle='--')\n",
    "                        plt.text(qhkl_list[i],ymax*0.2,str(h_list[i])+str(k_list[i])+str(l_list[i]),color='black')\n",
    "                i+=1\n",
    "        case 'body centered':\n",
    "            while i < len(qhkl_list):\n",
    "                if qhkl_list[i]<cutout*q[-1] and (h_list[i]+k_list[i]+l_list[i])%2==0:\n",
    "                    if k_list[i]+l_list[i]==0: #h00 peak\n",
    "                        plt.axvline(qhkl_list[i],ymin=0,ymax=100,color='r',linestyle='--')\n",
    "                        plt.text(qhkl_list[i],ymax*0.2,str(h_list[i])+str(k_list[i])+str(l_list[i]),color='r')\n",
    "                    elif h_list[i]+l_list[i]==0: #k00 peak\n",
    "                        plt.axvline(qhkl_list[i],ymin=0,ymax=100,color='b',linestyle='--')\n",
    "                        plt.text(qhkl_list[i],ymax*0.2,str(h_list[i])+str(k_list[i])+str(l_list[i]),color='b')\n",
    "                    elif h_list[i]+k_list[i]==0: #00l peak\n",
    "                        plt.axvline(qhkl_list[i],ymin=0,ymax=100,color='g',linestyle='--')\n",
    "                        plt.text(qhkl_list[i],ymax*0.2,str(h_list[i])+str(k_list[i])+str(l_list[i]),color='g')\n",
    "                    else :\n",
    "                        plt.axvline(qhkl_list[i],ymin=0,ymax=100,color='black',linestyle='--')\n",
    "                        plt.text(qhkl_list[i],ymax*0.2,str(h_list[i])+str(k_list[i])+str(l_list[i]),color='black')\n",
    "                i+=1\n",
    "        case 'face centered':\n",
    "            while i < len(qhkl_list):\n",
    "                if qhkl_list[i]<cutout*q[-1] and ((h_list[i]%2+k_list[i]%2+l_list[i]%2)==0 or (h_list[i]%2+k_list[i]%2+l_list[i]%2)==3):\n",
    "                    if k_list[i]+l_list[i]==0: #h00 peak\n",
    "                        plt.axvline(qhkl_list[i],ymin=0,ymax=100,color='r',linestyle='--')\n",
    "                        plt.text(qhkl_list[i],ymax*0.2,str(h_list[i])+str(k_list[i])+str(l_list[i]),color='r')\n",
    "                    elif h_list[i]+l_list[i]==0: #k00 peak\n",
    "                        plt.axvline(qhkl_list[i],ymin=0,ymax=100,color='b',linestyle='--')\n",
    "                        plt.text(qhkl_list[i],ymax*0.2,str(h_list[i])+str(k_list[i])+str(l_list[i]),color='b')\n",
    "                    elif h_list[i]+k_list[i]==0: #00l peak\n",
    "                        plt.axvline(qhkl_list[i],ymin=0,ymax=100,color='g',linestyle='--')\n",
    "                        plt.text(qhkl_list[i],ymax*0.2,str(h_list[i])+str(k_list[i])+str(l_list[i]),color='g')\n",
    "                    else :\n",
    "                        plt.axvline(qhkl_list[i],ymin=0,ymax=100,color='black',linestyle='--')\n",
    "                        plt.text(qhkl_list[i],ymax*0.2,str(h_list[i])+str(k_list[i])+str(l_list[i]),color='black')\n",
    "                i+=1\n",
    "        case 'end centered':\n",
    "            while i < len(qhkl_list):\n",
    "                if qhkl_list[i]<cutout*q[-1] and (h_list[i]%2+k_list[i]%2)==0:\n",
    "                    if k_list[i]+l_list[i]==0: #h00 peak\n",
    "                        plt.axvline(qhkl_list[i],ymin=0,ymax=100,color='r',linestyle='--')\n",
    "                        plt.text(qhkl_list[i],ymax*0.2,str(h_list[i])+str(k_list[i])+str(l_list[i]),color='r')\n",
    "                    elif h_list[i]+l_list[i]==0: #0k0 peak\n",
    "                        plt.axvline(qhkl_list[i],ymin=0,ymax=100,color='b',linestyle='--')\n",
    "                        plt.text(qhkl_list[i],ymax*0.2,str(h_list[i])+str(k_list[i])+str(l_list[i]),color='b')\n",
    "                    elif h_list[i]+k_list[i]==0: #00l peak\n",
    "                        plt.axvline(qhkl_list[i],ymin=0,ymax=100,color='g',linestyle='--')\n",
    "                        plt.text(qhkl_list[i],ymax*0.2,str(h_list[i])+str(k_list[i])+str(l_list[i]),color='g')\n",
    "                    else :\n",
    "                        plt.axvline(qhkl_list[i],ymin=0,ymax=100,color='black',linestyle='--')\n",
    "                        plt.text(qhkl_list[i],ymax*0.2,str(h_list[i])+str(k_list[i])+str(l_list[i]),color='black')\n",
    "                i+=1\n",
    "        case _:\n",
    "            print(\"Warning : cell type name undefined. Now showing all possible peaks.\")\n",
    "            while i < len(qhkl_list):\n",
    "                if qhkl_list[i]<cutout*q[-1]:\n",
    "                    if k_list[i]+l_list[i]==0: #h00 peak\n",
    "                        plt.axvline(qhkl_list[i],ymin=0,ymax=100,color='r',linestyle='--')\n",
    "                        plt.text(qhkl_list[i],ymax*0.2,str(h_list[i])+str(k_list[i])+str(l_list[i]),color='r')\n",
    "                    elif h_list[i]+l_list[i]==0: #0k0 peak\n",
    "                        plt.axvline(qhkl_list[i],ymin=0,ymax=100,color='b',linestyle='--')\n",
    "                        plt.text(qhkl_list[i],ymax*0.2,str(h_list[i])+str(k_list[i])+str(l_list[i]),color='b')\n",
    "                    elif h_list[i]+k_list[i]==0: #00l peak\n",
    "                        plt.axvline(qhkl_list[i],ymin=0,ymax=100,color='g',linestyle='--')\n",
    "                        plt.text(qhkl_list[i],ymax*0.2,str(h_list[i])+str(k_list[i])+str(l_list[i]),color='g')\n",
    "                    else :\n",
    "                        plt.axvline(qhkl_list[i],ymin=0,ymax=100,color='black',linestyle='--')\n",
    "                        plt.text(qhkl_list[i],ymax*0.2,str(h_list[i])+str(k_list[i])+str(l_list[i]),color='black')\n",
    "                i+=1\n",
    "    \n",
    "    plt.yscale('log')\n",
    "    plt.legend()\n",
    "    if xlog:\n",
    "        plt.xscale('log')\n",
    "    else:\n",
    "        plt.xscale('linear')\n",
    "    plt.ylim(bottom=None, top=ymax)\n",
    "    plt.xlim(left=0.001,right=cutout*q[-1])\n",
    "\n",
    "interact(threeD_orthorhombic_hkl, a_cell=(10,4000),b_cell=(10,4000),c_cell=(10,4000),celltype=['primitive','face centered','end centered','body centered'],xlog=False, cutout=(0.00,1.00,0.01))"
   ]
  },
  {
   "cell_type": "markdown",
   "metadata": {},
   "source": [
    "The next block generates the diffraction pattern of an ice-ray: an orthorhombic cell with a specific ratio between the a and b cell parameters."
   ]
  },
  {
   "cell_type": "code",
   "execution_count": 23,
   "metadata": {},
   "outputs": [
    {
     "data": {
      "application/vnd.jupyter.widget-view+json": {
       "model_id": "66cb32316fa6464da2481a25115c7bf2",
       "version_major": 2,
       "version_minor": 0
      },
      "text/plain": [
       "interactive(children=(IntSlider(value=755, description='a_cell', max=1500, min=10), IntSlider(value=1505, desc…"
      ]
     },
     "metadata": {},
     "output_type": "display_data"
    },
    {
     "data": {
      "text/plain": [
       "<function __main__.ice_ray(a_cell, c_cell, xlog=False, cutout=1)>"
      ]
     },
     "execution_count": 23,
     "metadata": {},
     "output_type": "execute_result"
    }
   ],
   "source": [
    "def ice_ray(a_cell,c_cell,xlog=False,cutout=1):\n",
    "    b_cell = 3*a_cell*np.sin(2*np.pi/5)/(1+np.cos(np.pi/5))\n",
    "    threeD_orthorhombic_hkl(a_cell,b_cell,c_cell,celltype=\"primitive\",xlog=xlog,cutout=cutout)\n",
    "\n",
    "interact(ice_ray,a_cell=(10,1500),c_cell=(10,3000),xlog=False, cutout=(0.00,1.00,0.01))"
   ]
  },
  {
   "cell_type": "markdown",
   "metadata": {},
   "source": [
    "The following block generates the diffraction pattern of a monoclinic cell, with control over all three parameters a, b, and c, and gamma, the angle between a and b."
   ]
  },
  {
   "cell_type": "code",
   "execution_count": 27,
   "metadata": {},
   "outputs": [
    {
     "data": {
      "application/vnd.jupyter.widget-view+json": {
       "model_id": "fd96af8e80ed47a48ceb91849786bc4e",
       "version_major": 2,
       "version_minor": 0
      },
      "text/plain": [
       "interactive(children=(IntSlider(value=555, description='a_cell', max=1100, min=10), IntSlider(value=2005, desc…"
      ]
     },
     "metadata": {},
     "output_type": "display_data"
    },
    {
     "data": {
      "text/plain": [
       "<function __main__.threeD_monoclinic_hkl(a_cell, b_cell, c_cell, gamma, xlog=False, cutout=1, celltype='primitive')>"
      ]
     },
     "execution_count": 27,
     "metadata": {},
     "output_type": "execute_result"
    }
   ],
   "source": [
    "def threeD_full_generation(hmax,kmax,lmax):\n",
    "    \"\"\"Generates the list of hkl of a 3D structure where h and l are not equivalent by symmetry up to hmax and lmax\"\"\"\n",
    "    #generation of the coordinates list\n",
    "    coordinates = []\n",
    "    for h in range(hmax+1):\n",
    "        for k in range(kmax+1):\n",
    "            for l in range(lmax+1):\n",
    "                coordinates.append([h,k,l])\n",
    "    coordinates = np.array(coordinates)\n",
    "    h = coordinates[1:,0]\n",
    "    k = coordinates[1:,1]\n",
    "    l = coordinates[1:,2]\n",
    "    return h, k, l\n",
    "\n",
    "def threeD_monoclinic_hkl(a_cell,b_cell,c_cell,gamma,xlog=False,cutout=1,celltype='primitive'):\n",
    "    \"\"\"Returns and plots the model for the diffraction of a monoclinic crystal, of parameter a_cell, b_cell, c_cell and gamma.\"\"\"\n",
    "    plt.figure(figsize=(20,6))\n",
    "    #plt.errorbar(x=q,y=Iq,yerr=Errorq,label='Raw data')\n",
    "    plt.plot(q,Iq,label='Raw data')\n",
    "    gamma = gamma * np.pi/180\n",
    "    h_list, k_list, l_list = threeD_full_generation(3,3,5)\n",
    "    S_square = (1/(np.sin(gamma)*np.sin(gamma)))*(h_list*h_list/(a_cell*a_cell)+k_list*k_list/(b_cell*b_cell)+l_list*l_list/(c_cell*c_cell)*np.sin(gamma)*np.sin(gamma)-2*h_list*k_list*np.cos(gamma)/(a_cell*b_cell))\n",
    "    qhkl_list = 2*np.pi * np.sqrt(S_square)\n",
    "    i = 0\n",
    "    match celltype:\n",
    "        case 'primitive':\n",
    "            while i < len(qhkl_list):\n",
    "                if qhkl_list[i]<cutout*q[-1]:\n",
    "                    if k_list[i]+l_list[i]==0: #h00 peak\n",
    "                        plt.axvline(qhkl_list[i],ymin=0,ymax=100,color='r',linestyle='--')\n",
    "                        plt.text(qhkl_list[i],ymax*0.2,str(h_list[i])+str(k_list[i])+str(l_list[i]),color='r')\n",
    "                    elif h_list[i]+l_list[i]==0: #k00 peak\n",
    "                        plt.axvline(qhkl_list[i],ymin=0,ymax=100,color='b',linestyle='--')\n",
    "                        plt.text(qhkl_list[i],ymax*0.2,str(h_list[i])+str(k_list[i])+str(l_list[i]),color='b')\n",
    "                    elif h_list[i]+k_list[i]==0: #00l peak\n",
    "                        plt.axvline(qhkl_list[i],ymin=0,ymax=100,color='g',linestyle='--')\n",
    "                        plt.text(qhkl_list[i],ymax*0.2,str(h_list[i])+str(k_list[i])+str(l_list[i]),color='g')\n",
    "                    elif l_list[i]==0: #hk0 peak\n",
    "                        plt.axvline(qhkl_list[i],ymin=0,ymax=100,color='purple',linestyle='--')\n",
    "                        plt.text(qhkl_list[i],ymax*0.2,str(h_list[i])+str(k_list[i])+str(l_list[i]),color='purple')\n",
    "                    else :\n",
    "                        plt.axvline(qhkl_list[i],ymin=0,ymax=100,color='black',linestyle='--')\n",
    "                        plt.text(qhkl_list[i],ymax*0.2,str(h_list[i])+str(k_list[i])+str(l_list[i]),color='black')\n",
    "                i+=1\n",
    "        case 'hk0 and 00l only':\n",
    "            while i < len(qhkl_list):\n",
    "                if qhkl_list[i]<cutout*q[-1]:\n",
    "                    if k_list[i]+l_list[i]==0: #h00 peak\n",
    "                        plt.axvline(qhkl_list[i],ymin=0,ymax=100,color='r',linestyle='--')\n",
    "                        plt.text(qhkl_list[i],ymax*0.2,str(h_list[i])+str(k_list[i])+str(l_list[i]),color='r')\n",
    "                    elif h_list[i]+l_list[i]==0: #k00 peak\n",
    "                        plt.axvline(qhkl_list[i],ymin=0,ymax=100,color='b',linestyle='--')\n",
    "                        plt.text(qhkl_list[i],ymax*0.2,str(h_list[i])+str(k_list[i])+str(l_list[i]),color='b')\n",
    "                    elif h_list[i]+k_list[i]==0: #00l peak\n",
    "                        plt.axvline(qhkl_list[i],ymin=0,ymax=100,color='g',linestyle='--')\n",
    "                        plt.text(qhkl_list[i],ymax*0.2,str(h_list[i])+str(k_list[i])+str(l_list[i]),color='g')\n",
    "                    elif l_list[i]==0: #hk0 peak\n",
    "                        plt.axvline(qhkl_list[i],ymin=0,ymax=100,color='purple',linestyle='--')\n",
    "                        plt.text(qhkl_list[i],ymax*0.2,str(h_list[i])+str(k_list[i])+str(l_list[i]),color='purple')\n",
    "                i+=1\n",
    "        case 'body centered':\n",
    "            while i < len(qhkl_list):\n",
    "                if qhkl_list[i]<cutout*q[-1] and (h_list[i]+k_list[i]+l_list[i])%2==0:\n",
    "                    if k_list[i]+l_list[i]==0: #h00 peak\n",
    "                        plt.axvline(qhkl_list[i],ymin=0,ymax=100,color='r',linestyle='--')\n",
    "                        plt.text(qhkl_list[i],ymax*0.2,str(h_list[i])+str(k_list[i])+str(l_list[i]),color='r')\n",
    "                    elif h_list[i]+l_list[i]==0: #k00 peak\n",
    "                        plt.axvline(qhkl_list[i],ymin=0,ymax=100,color='b',linestyle='--')\n",
    "                        plt.text(qhkl_list[i],ymax*0.2,str(h_list[i])+str(k_list[i])+str(l_list[i]),color='b')\n",
    "                    elif h_list[i]+k_list[i]==0: #00l peak\n",
    "                        plt.axvline(qhkl_list[i],ymin=0,ymax=100,color='g',linestyle='--')\n",
    "                        plt.text(qhkl_list[i],ymax*0.2,str(h_list[i])+str(k_list[i])+str(l_list[i]),color='g')\n",
    "                    else :\n",
    "                        plt.axvline(qhkl_list[i],ymin=0,ymax=100,color='black',linestyle='--')\n",
    "                        plt.text(qhkl_list[i],ymax*0.2,str(h_list[i])+str(k_list[i])+str(l_list[i]),color='black')\n",
    "                i+=1\n",
    "        case 'face centered':\n",
    "            while i < len(qhkl_list):\n",
    "                if qhkl_list[i]<cutout*q[-1] and ((h_list[i]%2+k_list[i]%2+l_list[i]%2)==0 or (h_list[i]%2+k_list[i]%2+l_list[i]%2)==3):\n",
    "                    if k_list[i]+l_list[i]==0: #h00 peak\n",
    "                        plt.axvline(qhkl_list[i],ymin=0,ymax=100,color='r',linestyle='--')\n",
    "                        plt.text(qhkl_list[i],ymax*0.2,str(h_list[i])+str(k_list[i])+str(l_list[i]),color='r')\n",
    "                    elif h_list[i]+l_list[i]==0: #k00 peak\n",
    "                        plt.axvline(qhkl_list[i],ymin=0,ymax=100,color='b',linestyle='--')\n",
    "                        plt.text(qhkl_list[i],ymax*0.2,str(h_list[i])+str(k_list[i])+str(l_list[i]),color='b')\n",
    "                    elif h_list[i]+k_list[i]==0: #00l peak\n",
    "                        plt.axvline(qhkl_list[i],ymin=0,ymax=100,color='g',linestyle='--')\n",
    "                        plt.text(qhkl_list[i],ymax*0.2,str(h_list[i])+str(k_list[i])+str(l_list[i]),color='g')\n",
    "                    else :\n",
    "                        plt.axvline(qhkl_list[i],ymin=0,ymax=100,color='black',linestyle='--')\n",
    "                        plt.text(qhkl_list[i],ymax*0.2,str(h_list[i])+str(k_list[i])+str(l_list[i]),color='black')\n",
    "                i+=1\n",
    "        case _:\n",
    "            print(\"Warning : cell type name undefined. Now showing all possible peaks.\")\n",
    "            while i < len(qhkl_list):\n",
    "                if qhkl_list[i]<cutout*q[-1]:\n",
    "                    if k_list[i]+l_list[i]==0: #h00 peak\n",
    "                        plt.axvline(qhkl_list[i],ymin=0,ymax=100,color='r',linestyle='--')\n",
    "                        plt.text(qhkl_list[i],ymax*0.2,str(h_list[i])+str(k_list[i])+str(l_list[i]),color='r')\n",
    "                    elif h_list[i]+l_list[i]==0: #k00 peak\n",
    "                        plt.axvline(qhkl_list[i],ymin=0,ymax=100,color='b',linestyle='--')\n",
    "                        plt.text(qhkl_list[i],ymax*0.2,str(h_list[i])+str(k_list[i])+str(l_list[i]),color='b')\n",
    "                    elif h_list[i]+k_list[i]==0: #00l peak\n",
    "                        plt.axvline(qhkl_list[i],ymin=0,ymax=100,color='g',linestyle='--')\n",
    "                        plt.text(qhkl_list[i],ymax*0.2,str(h_list[i])+str(k_list[i])+str(l_list[i]),color='g')\n",
    "                    else :\n",
    "                        plt.axvline(qhkl_list[i],ymin=0,ymax=100,color='black',linestyle='--')\n",
    "                        plt.text(qhkl_list[i],ymax*0.2,str(h_list[i])+str(k_list[i])+str(l_list[i]),color='black')\n",
    "                i+=1\n",
    "    \n",
    "    plt.yscale('log')\n",
    "    plt.legend()\n",
    "    if xlog:\n",
    "        plt.xscale('log')\n",
    "    else:\n",
    "        plt.xscale('linear')\n",
    "    plt.ylim(bottom=None, top=ymax)\n",
    "    plt.xlim(left=0.001,right=cutout*q[-1])\n",
    "\n",
    "interact(threeD_monoclinic_hkl, a_cell=(10,1100), b_cell=(10,4000), c_cell=(10,4000), gamma=(0.1,180,0.1),celltype=['primitive','hk0 and 00l only','face centered','body centered'], xlog=False, cutout=(0.00,1.00,0.01))"
   ]
  },
  {
   "cell_type": "markdown",
   "metadata": {},
   "source": [
    "The following block generates the structure peaks for a perfect Dürer packing from a monoclinic crystalline structure, with a 72° angle between a and b, and a specific ratio between a and b."
   ]
  },
  {
   "cell_type": "code",
   "execution_count": 28,
   "metadata": {},
   "outputs": [
    {
     "data": {
      "application/vnd.jupyter.widget-view+json": {
       "model_id": "c8a4f52fcaa2482981b00ac4dcc7e4b6",
       "version_major": 2,
       "version_minor": 0
      },
      "text/plain": [
       "interactive(children=(IntSlider(value=555, description='a_cell', max=1100, min=10), IntSlider(value=2005, desc…"
      ]
     },
     "metadata": {},
     "output_type": "display_data"
    },
    {
     "data": {
      "text/plain": [
       "<function __main__.perfect_durer(a_cell, c_cell, xlog, cutout, celltype)>"
      ]
     },
     "execution_count": 28,
     "metadata": {},
     "output_type": "execute_result"
    }
   ],
   "source": [
    "def perfect_durer(a_cell,c_cell,xlog,cutout,celltype):\n",
    "    b_cell = a_cell*2*np.sin(np.pi/5)/np.sqrt(2*np.cos(np.pi/5)+2)\n",
    "    threeD_monoclinic_hkl(a_cell,b_cell,c_cell,72.,xlog=xlog,cutout=cutout,celltype=celltype)\n",
    "\n",
    "interact(perfect_durer,a_cell=(10,1100),c_cell=(10,4000),xlog=False,cutout=(0.00,1.00,0.01),celltype=['primitive','hk0 and 00l only'])"
   ]
  },
  {
   "cell_type": "markdown",
   "metadata": {},
   "source": [
    "The following block generates the structure factor peaks for a triclinc crystalline structure."
   ]
  },
  {
   "cell_type": "code",
   "execution_count": null,
   "metadata": {},
   "outputs": [
    {
     "data": {
      "application/vnd.jupyter.widget-view+json": {
       "model_id": "7cc3a9787b18462f80f5f3628113f32d",
       "version_major": 2,
       "version_minor": 0
      },
      "text/plain": [
       "interactive(children=(IntSlider(value=555, description='a_cell', max=1100, min=10), IntSlider(value=2005, desc…"
      ]
     },
     "metadata": {},
     "output_type": "display_data"
    },
    {
     "data": {
      "text/plain": [
       "<function __main__.threeD_triclinic_hkl(a_cell, b_cell, c_cell, alpha, beta, gamma, xlog=False, cutout=1, celltype='h00, 0k0, 00l')>"
      ]
     },
     "execution_count": 29,
     "metadata": {},
     "output_type": "execute_result"
    }
   ],
   "source": [
    "def threeD_full_generation(hmax,kmax,lmax):\n",
    "    \"\"\"Generates the list of hkl of a 3D structure where h and l are not equivalent by symmetry up to hmax and lmax\"\"\"\n",
    "    #generation of the coordinates list\n",
    "    coordinates = []\n",
    "    for h in range(hmax+1):\n",
    "        for k in range(kmax+1):\n",
    "            for l in range(lmax+1):\n",
    "                coordinates.append([h,k,l])\n",
    "    coordinates = np.array(coordinates)\n",
    "    h = coordinates[1:,0]\n",
    "    k = coordinates[1:,1]\n",
    "    l = coordinates[1:,2]\n",
    "    return h, k, l\n",
    "\n",
    "def threeD_triclinic_hkl(a_cell,b_cell,c_cell,alpha,beta,gamma,xlog=False,cutout=1,celltype='h00, 0k0, 00l'):\n",
    "    \"\"\"Returns and plots the model for the diffraction of a triclinic crystal, of parameter a_cell, b_cell, c_cell, alpha, beta, gamma.\"\"\"\n",
    "    plt.figure(figsize=(20,6))\n",
    "    #plt.errorbar(x=q,y=Iq,yerr=Errorq,label='Raw data')\n",
    "    plt.plot(q,Iq,label='Raw data')\n",
    "    gamma = gamma * np.pi/180\n",
    "    alpha = alpha * np.pi/180\n",
    "    beta = beta * np.pi/180\n",
    "    ca = np.cos(alpha)\n",
    "    cb = np.cos(beta)\n",
    "    cg = np.cos(gamma)\n",
    "    sa = np.sin(alpha)\n",
    "    sb = np.sin(beta)\n",
    "    sg = np.sin(gamma)\n",
    "    h_list, k_list, l_list = threeD_full_generation(3,3,3)\n",
    "    S_square = ((h_list*h_list*sa*sa/(a_cell*a_cell))+(k_list*k_list*sb*sb/(b_cell*b_cell))+(l_list*l_list*sg*sg)/(c_cell*c_cell)-(2*k_list*l_list*(ca-cb*cg)/(b_cell*c_cell))-(2*l_list*h_list*(cb-cg*ca)/(c_cell*a_cell))-(2*h_list*k_list*(cg-ca*cb)/(a_cell*b_cell)))/(1-ca*ca-cb*cb-cg*cg+2*ca*cb*cg)\n",
    "    qhkl_list = 2*np.pi * np.sqrt(S_square)\n",
    "    i = 0\n",
    "    match celltype:\n",
    "        case 'primitive':\n",
    "            while i < len(qhkl_list):\n",
    "                if qhkl_list[i]<cutout*q[-1]:\n",
    "                    if k_list[i]+l_list[i]==0: #h00 peak\n",
    "                        plt.axvline(qhkl_list[i],ymin=0,ymax=100,color='r',linestyle='--')\n",
    "                        plt.text(qhkl_list[i],ymax*0.2,str(h_list[i])+str(k_list[i])+str(l_list[i]),color='r')\n",
    "                    elif h_list[i]+l_list[i]==0: #k00 peak\n",
    "                        plt.axvline(qhkl_list[i],ymin=0,ymax=100,color='b',linestyle='--')\n",
    "                        plt.text(qhkl_list[i],ymax*0.2,str(h_list[i])+str(k_list[i])+str(l_list[i]),color='b')\n",
    "                    elif h_list[i]+k_list[i]==0: #00l peak\n",
    "                        plt.axvline(qhkl_list[i],ymin=0,ymax=100,color='g',linestyle='--')\n",
    "                        plt.text(qhkl_list[i],ymax*0.2,str(h_list[i])+str(k_list[i])+str(l_list[i]),color='g')\n",
    "                    elif l_list[i]==0: #hk0 peak\n",
    "                        plt.axvline(qhkl_list[i],ymin=0,ymax=100,color='purple',linestyle='--')\n",
    "                        plt.text(qhkl_list[i],ymax*0.2,str(h_list[i])+str(k_list[i])+str(l_list[i]),color='purple')\n",
    "                    else :\n",
    "                        plt.axvline(qhkl_list[i],ymin=0,ymax=100,color='black',linestyle='--')\n",
    "                        plt.text(qhkl_list[i],ymax*0.2,str(h_list[i])+str(k_list[i])+str(l_list[i]),color='black')\n",
    "                i+=1\n",
    "        case 'h00, 0k0, 00l':\n",
    "            while i < len(qhkl_list):\n",
    "                if qhkl_list[i]<cutout*q[-1]:\n",
    "                    if k_list[i]+l_list[i]==0: #h00 peak\n",
    "                        plt.axvline(qhkl_list[i],ymin=0,ymax=100,color='r',linestyle='--')\n",
    "                        plt.text(qhkl_list[i],ymax*0.2,str(h_list[i])+str(k_list[i])+str(l_list[i]),color='r')\n",
    "                    elif h_list[i]+l_list[i]==0: #0k00 peak\n",
    "                        plt.axvline(qhkl_list[i],ymin=0,ymax=100,color='b',linestyle='--')\n",
    "                        plt.text(qhkl_list[i],ymax*0.2,str(h_list[i])+str(k_list[i])+str(l_list[i]),color='b')\n",
    "                    elif h_list[i]+k_list[i]==0: #00l peak\n",
    "                        plt.axvline(qhkl_list[i],ymin=0,ymax=100,color='g',linestyle='--')\n",
    "                        plt.text(qhkl_list[i],ymax*0.2,str(h_list[i])+str(k_list[i])+str(l_list[i]),color='g')\n",
    "                i+=1\n",
    "        case 'hk0 and 00l only':\n",
    "            while i < len(qhkl_list):\n",
    "                if qhkl_list[i]<cutout*q[-1]:\n",
    "                    if k_list[i]+l_list[i]==0: #h00 peak\n",
    "                        plt.axvline(qhkl_list[i],ymin=0,ymax=100,color='r',linestyle='--')\n",
    "                        plt.text(qhkl_list[i],ymax*0.2,str(h_list[i])+str(k_list[i])+str(l_list[i]),color='r')\n",
    "                    elif h_list[i]+l_list[i]==0: #k00 peak\n",
    "                        plt.axvline(qhkl_list[i],ymin=0,ymax=100,color='b',linestyle='--')\n",
    "                        plt.text(qhkl_list[i],ymax*0.2,str(h_list[i])+str(k_list[i])+str(l_list[i]),color='b')\n",
    "                    elif h_list[i]+k_list[i]==0: #00l peak\n",
    "                        plt.axvline(qhkl_list[i],ymin=0,ymax=100,color='g',linestyle='--')\n",
    "                        plt.text(qhkl_list[i],ymax*0.2,str(h_list[i])+str(k_list[i])+str(l_list[i]),color='g')\n",
    "                    elif l_list[i]==0: #hk0 peak\n",
    "                        plt.axvline(qhkl_list[i],ymin=0,ymax=100,color='purple',linestyle='--')\n",
    "                        plt.text(qhkl_list[i],ymax*0.2,str(h_list[i])+str(k_list[i])+str(l_list[i]),color='purple')\n",
    "                i+=1\n",
    "        case 'body centered':\n",
    "            while i < len(qhkl_list):\n",
    "                if qhkl_list[i]<cutout*q[-1] and (h_list[i]+k_list[i]+l_list[i])%2==0:\n",
    "                    if k_list[i]+l_list[i]==0: #h00 peak\n",
    "                        plt.axvline(qhkl_list[i],ymin=0,ymax=100,color='r',linestyle='--')\n",
    "                        plt.text(qhkl_list[i],ymax*0.2,str(h_list[i])+str(k_list[i])+str(l_list[i]),color='r')\n",
    "                    elif h_list[i]+l_list[i]==0: #k00 peak\n",
    "                        plt.axvline(qhkl_list[i],ymin=0,ymax=100,color='b',linestyle='--')\n",
    "                        plt.text(qhkl_list[i],ymax*0.2,str(h_list[i])+str(k_list[i])+str(l_list[i]),color='b')\n",
    "                    elif h_list[i]+k_list[i]==0: #00l peak\n",
    "                        plt.axvline(qhkl_list[i],ymin=0,ymax=100,color='g',linestyle='--')\n",
    "                        plt.text(qhkl_list[i],ymax*0.2,str(h_list[i])+str(k_list[i])+str(l_list[i]),color='g')\n",
    "                    else :\n",
    "                        plt.axvline(qhkl_list[i],ymin=0,ymax=100,color='black',linestyle='--')\n",
    "                        plt.text(qhkl_list[i],ymax*0.2,str(h_list[i])+str(k_list[i])+str(l_list[i]),color='black')\n",
    "                i+=1\n",
    "        case 'face centered':\n",
    "            while i < len(qhkl_list):\n",
    "                if qhkl_list[i]<cutout*q[-1] and ((h_list[i]%2+k_list[i]%2+l_list[i]%2)==0 or (h_list[i]%2+k_list[i]%2+l_list[i]%2)==3):\n",
    "                    if k_list[i]+l_list[i]==0: #h00 peak\n",
    "                        plt.axvline(qhkl_list[i],ymin=0,ymax=100,color='r',linestyle='--')\n",
    "                        plt.text(qhkl_list[i],ymax*0.2,str(h_list[i])+str(k_list[i])+str(l_list[i]),color='r')\n",
    "                    elif h_list[i]+l_list[i]==0: #k00 peak\n",
    "                        plt.axvline(qhkl_list[i],ymin=0,ymax=100,color='b',linestyle='--')\n",
    "                        plt.text(qhkl_list[i],ymax*0.2,str(h_list[i])+str(k_list[i])+str(l_list[i]),color='b')\n",
    "                    elif h_list[i]+k_list[i]==0: #00l peak\n",
    "                        plt.axvline(qhkl_list[i],ymin=0,ymax=100,color='g',linestyle='--')\n",
    "                        plt.text(qhkl_list[i],ymax*0.2,str(h_list[i])+str(k_list[i])+str(l_list[i]),color='g')\n",
    "                    else :\n",
    "                        plt.axvline(qhkl_list[i],ymin=0,ymax=100,color='black',linestyle='--')\n",
    "                        plt.text(qhkl_list[i],ymax*0.2,str(h_list[i])+str(k_list[i])+str(l_list[i]),color='black')\n",
    "                i+=1\n",
    "        case _:\n",
    "            print(\"Warning : cell type name undefined. Now showing all possible peaks.\")\n",
    "            while i < len(qhkl_list):\n",
    "                if qhkl_list[i]<cutout*q[-1]:\n",
    "                    if k_list[i]+l_list[i]==0: #h00 peak\n",
    "                        plt.axvline(qhkl_list[i],ymin=0,ymax=100,color='r',linestyle='--')\n",
    "                        plt.text(qhkl_list[i],ymax*0.2,str(h_list[i])+str(k_list[i])+str(l_list[i]),color='r')\n",
    "                    elif h_list[i]+l_list[i]==0: #k00 peak\n",
    "                        plt.axvline(qhkl_list[i],ymin=0,ymax=100,color='b',linestyle='--')\n",
    "                        plt.text(qhkl_list[i],ymax*0.2,str(h_list[i])+str(k_list[i])+str(l_list[i]),color='b')\n",
    "                    elif h_list[i]+k_list[i]==0: #00l peak\n",
    "                        plt.axvline(qhkl_list[i],ymin=0,ymax=100,color='g',linestyle='--')\n",
    "                        plt.text(qhkl_list[i],ymax*0.2,str(h_list[i])+str(k_list[i])+str(l_list[i]),color='g')\n",
    "                    else :\n",
    "                        plt.axvline(qhkl_list[i],ymin=0,ymax=100,color='black',linestyle='--')\n",
    "                        plt.text(qhkl_list[i],ymax*0.2,str(h_list[i])+str(k_list[i])+str(l_list[i]),color='black')\n",
    "                i+=1\n",
    "    \n",
    "    plt.yscale('log')\n",
    "    plt.legend()\n",
    "    if xlog:\n",
    "        plt.xscale('log')\n",
    "    else:\n",
    "        plt.xscale('linear')\n",
    "    plt.ylim(bottom=None, top=ymax)\n",
    "    plt.xlim(left=0.001,right=cutout*q[-1])\n",
    "\n",
    "interact(threeD_triclinic_hkl, a_cell=(10,1100), b_cell=(10,4000), c_cell=(10,4000), alpha=(0.1,180,0.1), beta=(0.1,180,0.1),gamma=(0.1,180,0.1),celltype=['primitive','h00, 0k0, 00l','hk0 and 00l only','face centered','body centered'], xlog=False, cutout=(0.00,1.00,0.01))"
   ]
  }
 ],
 "metadata": {
  "kernelspec": {
   "display_name": "Python 3",
   "language": "python",
   "name": "python3"
  },
  "language_info": {
   "codemirror_mode": {
    "name": "ipython",
    "version": 3
   },
   "file_extension": ".py",
   "mimetype": "text/x-python",
   "name": "python",
   "nbconvert_exporter": "python",
   "pygments_lexer": "ipython3",
   "version": "3.12.2"
  },
  "orig_nbformat": 4
 },
 "nbformat": 4,
 "nbformat_minor": 2
}
